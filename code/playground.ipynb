{
 "cells": [
  {
   "cell_type": "markdown",
   "id": "35cd0335",
   "metadata": {},
   "source": [
    "# Transformers Playground"
   ]
  },
  {
   "cell_type": "code",
   "execution_count": 2,
   "id": "d447397f",
   "metadata": {},
   "outputs": [
    {
     "name": "stdout",
     "output_type": "stream",
     "text": [
      "['/Users/berkayozkirli/.local/share/uv/python/cpython-3.13.5-macos-aarch64-none/lib/python313.zip', '/Users/berkayozkirli/.local/share/uv/python/cpython-3.13.5-macos-aarch64-none/lib/python3.13', '/Users/berkayozkirli/.local/share/uv/python/cpython-3.13.5-macos-aarch64-none/lib/python3.13/lib-dynload', '', '/Users/berkayozkirli/projects/courses/code/.venv/lib/python3.13/site-packages', '/Users/berkayozkirli/projects/courses/code']\n"
     ]
    }
   ],
   "source": [
    "import sys\n",
    "import os\n",
    "sys.path.append(os.path.abspath(\"code\"))\n",
    "print(sys.path)"
   ]
  },
  {
   "cell_type": "markdown",
   "id": "1d3d7b8f",
   "metadata": {},
   "source": [
    "## Tokenization"
   ]
  },
  {
   "cell_type": "code",
   "execution_count": 3,
   "id": "ceb6048d",
   "metadata": {},
   "outputs": [
    {
     "data": {
      "text/plain": [
       "[72, 101, 108, 108, 111, 44, 32, 119, 111, 114, 108, 100, 33]"
      ]
     },
     "execution_count": 3,
     "metadata": {},
     "output_type": "execute_result"
    }
   ],
   "source": [
    "import src.transformer.tokenizers as tokenizers\n",
    "BT = tokenizers.ByteTokenizer()\n",
    "BT.encode(\"Hello, world!\")"
   ]
  }
 ],
 "metadata": {
  "kernelspec": {
   "display_name": ".venv",
   "language": "python",
   "name": "python3"
  },
  "language_info": {
   "codemirror_mode": {
    "name": "ipython",
    "version": 3
   },
   "file_extension": ".py",
   "mimetype": "text/x-python",
   "name": "python",
   "nbconvert_exporter": "python",
   "pygments_lexer": "ipython3",
   "version": "3.13.5"
  }
 },
 "nbformat": 4,
 "nbformat_minor": 5
}
